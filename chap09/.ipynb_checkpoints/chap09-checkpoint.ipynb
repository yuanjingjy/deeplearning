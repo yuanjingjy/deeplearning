{
 "cells": [
  {
   "cell_type": "markdown",
   "metadata": {},
   "source": [
    "#### 过拟合问题实战\n",
    "#### 基于月牙形状的2分类数据集的过拟合与欠拟合模型进行完整的实战。"
   ]
  },
  {
   "cell_type": "code",
   "execution_count": 5,
   "metadata": {},
   "outputs": [],
   "source": [
    "#导入数据生成工具\n",
    "from sklearn.datasets import make_moons\n",
    "from sklearn.model_selection import train_test_split\n",
    "import matplotlib.pyplot as plt\n",
    "import seaborn as sns    "
   ]
  },
  {
   "cell_type": "code",
   "execution_count": null,
   "metadata": {},
   "outputs": [],
   "source": [
    "#从moon分布中，随机采样1000各点，并切分为训练集-测试集\n",
    "N_SAMPLES=1000\n",
    "TEST_SIZE = 0.3\n",
    "X,y = make_moons(n_samples = N_SAMPLES, noise=0.25,random_state=100)\n",
    "X_train,X_test,y_train,y_test = train_test_split(X,y,test_size = TEST_SIZE,random_state = 42)\n",
    "#make_plot函数，根据样本的坐标X和样本的标签y绘制出数据的分布图\n",
    "def make_plot(X,y,plot_name,file_name,XX=None,YY=None,preds=None):\n",
    "    plt.figure()"
   ]
  }
 ],
 "metadata": {
  "kernelspec": {
   "display_name": "tf2",
   "language": "python",
   "name": "tf2"
  },
  "language_info": {
   "codemirror_mode": {
    "name": "ipython",
    "version": 3
   },
   "file_extension": ".py",
   "mimetype": "text/x-python",
   "name": "python",
   "nbconvert_exporter": "python",
   "pygments_lexer": "ipython3",
   "version": "3.7.6"
  }
 },
 "nbformat": 4,
 "nbformat_minor": 2
}
