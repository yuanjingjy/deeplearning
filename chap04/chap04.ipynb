{
 "cells": [
  {
   "cell_type": "code",
   "execution_count": 1,
   "metadata": {},
   "outputs": [],
   "source": [
    "import tensorflow as tf\n",
    "from tensorflow import keras\n",
    "from tensorflow.keras import layers, optimizers,datasets"
   ]
  },
  {
   "cell_type": "code",
   "execution_count": 3,
   "metadata": {},
   "outputs": [
    {
     "data": {
      "text/plain": [
       "(<tf.Tensor: shape=(1,), dtype=float32, numpy=array([1.2], dtype=float32)>,\n",
       " TensorShape([1]))"
      ]
     },
     "execution_count": 3,
     "metadata": {},
     "output_type": "execute_result"
    }
   ],
   "source": [
    "a = tf.constant([1.2])\n",
    "a,a.shape"
   ]
  },
  {
   "cell_type": "code",
   "execution_count": 5,
   "metadata": {},
   "outputs": [
    {
     "data": {
      "text/plain": [
       "(<tf.Tensor: shape=(3,), dtype=float32, numpy=array([1., 2., 3.], dtype=float32)>,\n",
       " TensorShape([3]))"
      ]
     },
     "execution_count": 5,
     "metadata": {},
     "output_type": "execute_result"
    }
   ],
   "source": [
    "a = tf.constant([1,2,3.])\n",
    "a,a.shape"
   ]
  },
  {
   "cell_type": "code",
   "execution_count": 7,
   "metadata": {},
   "outputs": [
    {
     "data": {
      "text/plain": [
       "(<tf.Tensor: shape=(2, 2), dtype=int32, numpy=\n",
       " array([[1, 2],\n",
       "        [3, 4]])>,\n",
       " TensorShape([2, 2]))"
      ]
     },
     "execution_count": 7,
     "metadata": {},
     "output_type": "execute_result"
    }
   ],
   "source": [
    "a = tf.constant([[1,2],[3,4]])\n",
    "a,a.shape"
   ]
  },
  {
   "cell_type": "code",
   "execution_count": 8,
   "metadata": {},
   "outputs": [
    {
     "data": {
      "text/plain": [
       "(<tf.Tensor: shape=(2, 2, 2), dtype=int32, numpy=\n",
       " array([[[1, 2],\n",
       "         [3, 4]],\n",
       " \n",
       "        [[5, 6],\n",
       "         [7, 8]]])>,\n",
       " TensorShape([2, 2, 2]))"
      ]
     },
     "execution_count": 8,
     "metadata": {},
     "output_type": "execute_result"
    }
   ],
   "source": [
    "a = tf.constant([[[1,2],[3,4]],[[5,6],[7,8]]])\n",
    "a,a.shape"
   ]
  },
  {
   "cell_type": "code",
   "execution_count": 12,
   "metadata": {},
   "outputs": [
    {
     "data": {
      "text/plain": [
       "<tf.Tensor: shape=(), dtype=string, numpy=b'hello, deep learning'>"
      ]
     },
     "execution_count": 12,
     "metadata": {},
     "output_type": "execute_result"
    }
   ],
   "source": [
    "a = tf.constant('Hello, Deep Learning')\n",
    "tf.strings.lower(a)"
   ]
  },
  {
   "cell_type": "code",
   "execution_count": 14,
   "metadata": {},
   "outputs": [
    {
     "data": {
      "text/plain": [
       "<tf.Tensor: shape=(), dtype=bool, numpy=True>"
      ]
     },
     "execution_count": 14,
     "metadata": {},
     "output_type": "execute_result"
    }
   ],
   "source": [
    "#bool类型\n",
    "a = tf.constant(True)\n",
    "a"
   ]
  },
  {
   "cell_type": "code",
   "execution_count": 3,
   "metadata": {},
   "outputs": [
    {
     "data": {
      "text/plain": [
       "<tf.Tensor: shape=(2,), dtype=bool, numpy=array([ True, False])>"
      ]
     },
     "execution_count": 3,
     "metadata": {},
     "output_type": "execute_result"
    }
   ],
   "source": [
    "a = tf.constant([True,False])\n",
    "a"
   ]
  },
  {
   "cell_type": "code",
   "execution_count": 4,
   "metadata": {},
   "outputs": [
    {
     "data": {
      "text/plain": [
       "<tf.Tensor: shape=(), dtype=int16, numpy=-13035>"
      ]
     },
     "execution_count": 4,
     "metadata": {},
     "output_type": "execute_result"
    }
   ],
   "source": [
    "tf.constant(123456789,dtype=tf.int16)"
   ]
  },
  {
   "cell_type": "code",
   "execution_count": 6,
   "metadata": {},
   "outputs": [
    {
     "data": {
      "text/plain": [
       "<tf.Tensor: shape=(), dtype=float64, numpy=3.141592653589793>"
      ]
     },
     "execution_count": 6,
     "metadata": {},
     "output_type": "execute_result"
    }
   ],
   "source": [
    "import numpy as np\n",
    "np.pi\n",
    "tf.constant(np.pi, dtype=tf.float64)"
   ]
  },
  {
   "cell_type": "code",
   "execution_count": 12,
   "metadata": {},
   "outputs": [
    {
     "name": "stdout",
     "output_type": "stream",
     "text": [
      "before： <dtype: 'float16'>\n",
      "after: <dtype: 'float32'>\n"
     ]
    }
   ],
   "source": [
    "#精度转换\n",
    "a = tf.constant(np.pi,dtype = tf.float16)\n",
    "print('before：',a.dtype)\n",
    "if a.dtype != tf.float32:\n",
    "    a = tf.cast(a,tf.float32)\n",
    "print('after:',a.dtype)"
   ]
  },
  {
   "cell_type": "code",
   "execution_count": 11,
   "metadata": {},
   "outputs": [
    {
     "data": {
      "text/plain": [
       "<tf.Tensor: shape=(), dtype=float16, numpy=3.14>"
      ]
     },
     "execution_count": 11,
     "metadata": {},
     "output_type": "execute_result"
    }
   ],
   "source": [
    "a"
   ]
  },
  {
   "cell_type": "code",
   "execution_count": 2,
   "metadata": {},
   "outputs": [
    {
     "data": {
      "text/plain": [
       "<tf.Tensor: shape=(2, 2), dtype=float32, numpy=\n",
       "array([[0., 0.],\n",
       "       [0., 0.]], dtype=float32)>"
      ]
     },
     "execution_count": 2,
     "metadata": {},
     "output_type": "execute_result"
    }
   ],
   "source": [
    "#通过 tf.Variable()函数可以将普通张量转换为待优化张量\n",
    "tf.zeros([2,2])"
   ]
  },
  {
   "cell_type": "code",
   "execution_count": 3,
   "metadata": {},
   "outputs": [
    {
     "data": {
      "text/plain": [
       "<tf.Tensor: shape=(3, 2), dtype=float32, numpy=\n",
       "array([[1., 1.],\n",
       "       [1., 1.],\n",
       "       [1., 1.]], dtype=float32)>"
      ]
     },
     "execution_count": 3,
     "metadata": {},
     "output_type": "execute_result"
    }
   ],
   "source": [
    "tf.ones([3,2])"
   ]
  },
  {
   "cell_type": "code",
   "execution_count": 4,
   "metadata": {},
   "outputs": [
    {
     "data": {
      "text/plain": [
       "<tf.Tensor: shape=(2, 3), dtype=float32, numpy=\n",
       "array([[0., 0., 0.],\n",
       "       [0., 0., 0.]], dtype=float32)>"
      ]
     },
     "execution_count": 4,
     "metadata": {},
     "output_type": "execute_result"
    }
   ],
   "source": [
    "a = tf.ones([2,3])\n",
    "tf.zeros_like(a)"
   ]
  },
  {
   "cell_type": "code",
   "execution_count": 5,
   "metadata": {},
   "outputs": [
    {
     "data": {
      "text/plain": [
       "<tf.Tensor: shape=(3, 2), dtype=float32, numpy=\n",
       "array([[1., 1.],\n",
       "       [1., 1.],\n",
       "       [1., 1.]], dtype=float32)>"
      ]
     },
     "execution_count": 5,
     "metadata": {},
     "output_type": "execute_result"
    }
   ],
   "source": [
    "a = tf.zeros([3,2])\n",
    "tf.ones_like(a)"
   ]
  },
  {
   "cell_type": "code",
   "execution_count": 6,
   "metadata": {},
   "outputs": [
    {
     "data": {
      "text/plain": [
       "<tf.Tensor: shape=(), dtype=int32, numpy=-1>"
      ]
     },
     "execution_count": 6,
     "metadata": {},
     "output_type": "execute_result"
    }
   ],
   "source": [
    "#通过tf.fill(shape,value)可以创建全为自定义数值的张量，例如，创建元素为-1的标量\n",
    "tf.fill([],-1)"
   ]
  },
  {
   "cell_type": "code",
   "execution_count": 7,
   "metadata": {},
   "outputs": [
    {
     "data": {
      "text/plain": [
       "<tf.Tensor: shape=(1,), dtype=int32, numpy=array([-1])>"
      ]
     },
     "execution_count": 7,
     "metadata": {},
     "output_type": "execute_result"
    }
   ],
   "source": [
    "#创建所有元素为-1的向量\n",
    "tf.fill([1],-1)"
   ]
  },
  {
   "cell_type": "code",
   "execution_count": 8,
   "metadata": {},
   "outputs": [
    {
     "data": {
      "text/plain": [
       "<tf.Tensor: shape=(2, 2), dtype=int32, numpy=\n",
       "array([[99, 99],\n",
       "       [99, 99]])>"
      ]
     },
     "execution_count": 8,
     "metadata": {},
     "output_type": "execute_result"
    }
   ],
   "source": [
    "tf.fill([2,2],99)"
   ]
  },
  {
   "cell_type": "code",
   "execution_count": 14,
   "metadata": {},
   "outputs": [
    {
     "data": {
      "text/plain": [
       "<tf.Tensor: shape=(2, 2), dtype=int32, numpy=\n",
       "array([[81, 90],\n",
       "       [38,  5]])>"
      ]
     },
     "execution_count": 14,
     "metadata": {},
     "output_type": "execute_result"
    }
   ],
   "source": [
    "tf.random.normal([2,2])\n",
    "tf.random.uniform([2,2],maxval=100,dtype=tf.int32)"
   ]
  },
  {
   "cell_type": "code",
   "execution_count": 16,
   "metadata": {},
   "outputs": [
    {
     "data": {
      "text/plain": [
       "<tf.Tensor: shape=(5,), dtype=int32, numpy=array([0, 2, 4, 6, 8])>"
      ]
     },
     "execution_count": 16,
     "metadata": {},
     "output_type": "execute_result"
    }
   ],
   "source": [
    "#tf.range(limit,delta=1)可以创建[0,limit)之间，步长为delta的整形序列，不包含limit本身。\n",
    "tf.range(10)\n",
    "tf.range(10,delta=2)"
   ]
  },
  {
   "cell_type": "code",
   "execution_count": 17,
   "metadata": {},
   "outputs": [
    {
     "data": {
      "text/plain": [
       "<tf.Tensor: shape=(5,), dtype=int32, numpy=array([1, 3, 5, 7, 9])>"
      ]
     },
     "execution_count": 17,
     "metadata": {},
     "output_type": "execute_result"
    }
   ],
   "source": [
    "#通过tf.range(start,limit,delta=1)可以创建[start,limit),步长为delta的序列，不包含limit本身：\n",
    "tf.range(1,10,delta=2)"
   ]
  },
  {
   "cell_type": "code",
   "execution_count": 2,
   "metadata": {},
   "outputs": [
    {
     "name": "stdout",
     "output_type": "stream",
     "text": [
      "tf.Tensor(0.26742747, shape=(), dtype=float32)\n"
     ]
    }
   ],
   "source": [
    "out = tf.random.uniform([4,10])#随机模拟网络输出\n",
    "y = tf.constant([2,3,2,0])#随机构造样本真实标签\n",
    "y = tf.one_hot(y,depth=10)\n",
    "loss = tf.keras.losses.mse(y,out)\n",
    "loss = tf.reduce_mean(loss)\n",
    "print(loss)"
   ]
  },
  {
   "cell_type": "code",
   "execution_count": 4,
   "metadata": {},
   "outputs": [
    {
     "data": {
      "text/plain": [
       "<tf.Tensor: shape=(4, 2), dtype=float32, numpy=\n",
       "array([[ 0.60233784, -0.7106011 ],\n",
       "       [ 0.47419584, -1.6493104 ],\n",
       "       [ 0.48631668, -1.4533979 ],\n",
       "       [-0.23133196,  0.04330752]], dtype=float32)>"
      ]
     },
     "execution_count": 4,
     "metadata": {},
     "output_type": "execute_result"
    }
   ],
   "source": [
    "#z=wx,模拟获得激活函数的输入z\n",
    "z = tf.random.normal([4,2])\n",
    "b = tf.zeros([2])#模拟偏置向量\n",
    "z = z+b#累加偏置\n",
    "z"
   ]
  },
  {
   "cell_type": "code",
   "execution_count": 8,
   "metadata": {},
   "outputs": [
    {
     "data": {
      "text/plain": [
       "<tf.Variable 'bias:0' shape=(3,) dtype=float32, numpy=array([0., 0., 0.], dtype=float32)>"
      ]
     },
     "execution_count": 8,
     "metadata": {},
     "output_type": "execute_result"
    }
   ],
   "source": [
    "#通过高层接口类Dense()方式创建网络层，张量W和b存储在类的内部，由类自动创建并管理。\n",
    "#可以通过全连接层的bias成员变量查看偏置变量b，例如创建输入节点数为4，输出节点数为3的线性层网络，那么偏置向量长度应为3\n",
    "fc = layers.Dense(3)\n",
    "fc.build(input_shape=(2,4))\n",
    "fc.bias#查看偏置\n"
   ]
  },
  {
   "cell_type": "code",
   "execution_count": 6,
   "metadata": {},
   "outputs": [
    {
     "data": {
      "text/plain": [
       "<tf.Tensor: shape=(2, 3), dtype=float32, numpy=\n",
       "array([[-0.18744332, -0.18744332, -0.18744332],\n",
       "       [ 0.9928901 ,  0.9928901 ,  0.9928901 ]], dtype=float32)>"
      ]
     },
     "execution_count": 6,
     "metadata": {},
     "output_type": "execute_result"
    }
   ],
   "source": [
    "x = tf.random.normal([2,4])\n",
    "w = tf.ones([4,3])\n",
    "b = tf.zeros([3])\n",
    "o = x@w+b\n",
    "o"
   ]
  },
  {
   "cell_type": "code",
   "execution_count": 9,
   "metadata": {},
   "outputs": [
    {
     "data": {
      "text/plain": [
       "<tf.Variable 'kernel:0' shape=(4, 3) dtype=float32, numpy=\n",
       "array([[-0.4543315 ,  0.29160762, -0.03079665],\n",
       "       [-0.17069352, -0.04532039,  0.01355231],\n",
       "       [-0.5533489 , -0.48549873, -0.2386679 ],\n",
       "       [-0.062244  , -0.07328016,  0.65485156]], dtype=float32)>"
      ]
     },
     "execution_count": 9,
     "metadata": {},
     "output_type": "execute_result"
    }
   ],
   "source": [
    "fc = layers.Dense(3)\n",
    "fc.build(input_shape=(2,4))\n",
    "fc.kernel"
   ]
  },
  {
   "cell_type": "code",
   "execution_count": 7,
   "metadata": {},
   "outputs": [
    {
     "name": "stdout",
     "output_type": "stream",
     "text": [
      "Downloading data from https://storage.googleapis.com/tensorflow/tf-keras-datasets/imdb.npz\n",
      " 5857280/17464789 [=========>....................] - ETA: 13:08"
     ]
    },
    {
     "ename": "KeyboardInterrupt",
     "evalue": "",
     "output_type": "error",
     "traceback": [
      "\u001b[1;31m---------------------------------------------------------------------------\u001b[0m",
      "\u001b[1;31mKeyboardInterrupt\u001b[0m                         Traceback (most recent call last)",
      "\u001b[1;32m<ipython-input-7-2356a9249a70>\u001b[0m in \u001b[0;36m<module>\u001b[1;34m\u001b[0m\n\u001b[1;32m----> 1\u001b[1;33m \u001b[1;33m(\u001b[0m\u001b[0mx_trian\u001b[0m\u001b[1;33m,\u001b[0m\u001b[0my_train\u001b[0m\u001b[1;33m)\u001b[0m\u001b[1;33m,\u001b[0m\u001b[1;33m(\u001b[0m\u001b[0mx_test\u001b[0m\u001b[1;33m,\u001b[0m\u001b[0my_test\u001b[0m\u001b[1;33m)\u001b[0m\u001b[1;33m=\u001b[0m\u001b[0mkeras\u001b[0m\u001b[1;33m.\u001b[0m\u001b[0mdatasets\u001b[0m\u001b[1;33m.\u001b[0m\u001b[0mimdb\u001b[0m\u001b[1;33m.\u001b[0m\u001b[0mload_data\u001b[0m\u001b[1;33m(\u001b[0m\u001b[0mnum_words\u001b[0m\u001b[1;33m=\u001b[0m\u001b[1;36m10000\u001b[0m\u001b[1;33m)\u001b[0m\u001b[1;33m\u001b[0m\u001b[1;33m\u001b[0m\u001b[0m\n\u001b[0m",
      "\u001b[1;32mD:\\ProgramData\\Anaconda3\\envs\\tf2\\lib\\site-packages\\tensorflow_core\\python\\keras\\datasets\\imdb.py\u001b[0m in \u001b[0;36mload_data\u001b[1;34m(path, num_words, skip_top, maxlen, seed, start_char, oov_char, index_from, **kwargs)\u001b[0m\n\u001b[0;32m     83\u001b[0m       \u001b[0morigin\u001b[0m\u001b[1;33m=\u001b[0m\u001b[0morigin_folder\u001b[0m \u001b[1;33m+\u001b[0m \u001b[1;34m'imdb.npz'\u001b[0m\u001b[1;33m,\u001b[0m\u001b[1;33m\u001b[0m\u001b[1;33m\u001b[0m\u001b[0m\n\u001b[0;32m     84\u001b[0m       \u001b[0mfile_hash\u001b[0m\u001b[1;33m=\u001b[0m\u001b[1;33m\u001b[0m\u001b[1;33m\u001b[0m\u001b[0m\n\u001b[1;32m---> 85\u001b[1;33m       '69664113be75683a8fe16e3ed0ab59fda8886cb3cd7ada244f7d9544e4676b9f')\n\u001b[0m\u001b[0;32m     86\u001b[0m   \u001b[1;32mwith\u001b[0m \u001b[0mnp\u001b[0m\u001b[1;33m.\u001b[0m\u001b[0mload\u001b[0m\u001b[1;33m(\u001b[0m\u001b[0mpath\u001b[0m\u001b[1;33m,\u001b[0m \u001b[0mallow_pickle\u001b[0m\u001b[1;33m=\u001b[0m\u001b[1;32mTrue\u001b[0m\u001b[1;33m)\u001b[0m \u001b[1;32mas\u001b[0m \u001b[0mf\u001b[0m\u001b[1;33m:\u001b[0m\u001b[1;33m\u001b[0m\u001b[1;33m\u001b[0m\u001b[0m\n\u001b[0;32m     87\u001b[0m     \u001b[0mx_train\u001b[0m\u001b[1;33m,\u001b[0m \u001b[0mlabels_train\u001b[0m \u001b[1;33m=\u001b[0m \u001b[0mf\u001b[0m\u001b[1;33m[\u001b[0m\u001b[1;34m'x_train'\u001b[0m\u001b[1;33m]\u001b[0m\u001b[1;33m,\u001b[0m \u001b[0mf\u001b[0m\u001b[1;33m[\u001b[0m\u001b[1;34m'y_train'\u001b[0m\u001b[1;33m]\u001b[0m\u001b[1;33m\u001b[0m\u001b[1;33m\u001b[0m\u001b[0m\n",
      "\u001b[1;32mD:\\ProgramData\\Anaconda3\\envs\\tf2\\lib\\site-packages\\tensorflow_core\\python\\keras\\utils\\data_utils.py\u001b[0m in \u001b[0;36mget_file\u001b[1;34m(fname, origin, untar, md5_hash, file_hash, cache_subdir, hash_algorithm, extract, archive_format, cache_dir)\u001b[0m\n\u001b[0;32m    262\u001b[0m     \u001b[1;32mtry\u001b[0m\u001b[1;33m:\u001b[0m\u001b[1;33m\u001b[0m\u001b[1;33m\u001b[0m\u001b[0m\n\u001b[0;32m    263\u001b[0m       \u001b[1;32mtry\u001b[0m\u001b[1;33m:\u001b[0m\u001b[1;33m\u001b[0m\u001b[1;33m\u001b[0m\u001b[0m\n\u001b[1;32m--> 264\u001b[1;33m         \u001b[0murlretrieve\u001b[0m\u001b[1;33m(\u001b[0m\u001b[0morigin\u001b[0m\u001b[1;33m,\u001b[0m \u001b[0mfpath\u001b[0m\u001b[1;33m,\u001b[0m \u001b[0mdl_progress\u001b[0m\u001b[1;33m)\u001b[0m\u001b[1;33m\u001b[0m\u001b[1;33m\u001b[0m\u001b[0m\n\u001b[0m\u001b[0;32m    265\u001b[0m       \u001b[1;32mexcept\u001b[0m \u001b[0mHTTPError\u001b[0m \u001b[1;32mas\u001b[0m \u001b[0me\u001b[0m\u001b[1;33m:\u001b[0m\u001b[1;33m\u001b[0m\u001b[1;33m\u001b[0m\u001b[0m\n\u001b[0;32m    266\u001b[0m         \u001b[1;32mraise\u001b[0m \u001b[0mException\u001b[0m\u001b[1;33m(\u001b[0m\u001b[0merror_msg\u001b[0m\u001b[1;33m.\u001b[0m\u001b[0mformat\u001b[0m\u001b[1;33m(\u001b[0m\u001b[0morigin\u001b[0m\u001b[1;33m,\u001b[0m \u001b[0me\u001b[0m\u001b[1;33m.\u001b[0m\u001b[0mcode\u001b[0m\u001b[1;33m,\u001b[0m \u001b[0me\u001b[0m\u001b[1;33m.\u001b[0m\u001b[0mmsg\u001b[0m\u001b[1;33m)\u001b[0m\u001b[1;33m)\u001b[0m\u001b[1;33m\u001b[0m\u001b[1;33m\u001b[0m\u001b[0m\n",
      "\u001b[1;32mD:\\ProgramData\\Anaconda3\\envs\\tf2\\lib\\urllib\\request.py\u001b[0m in \u001b[0;36murlretrieve\u001b[1;34m(url, filename, reporthook, data)\u001b[0m\n\u001b[0;32m    274\u001b[0m \u001b[1;33m\u001b[0m\u001b[0m\n\u001b[0;32m    275\u001b[0m             \u001b[1;32mwhile\u001b[0m \u001b[1;32mTrue\u001b[0m\u001b[1;33m:\u001b[0m\u001b[1;33m\u001b[0m\u001b[1;33m\u001b[0m\u001b[0m\n\u001b[1;32m--> 276\u001b[1;33m                 \u001b[0mblock\u001b[0m \u001b[1;33m=\u001b[0m \u001b[0mfp\u001b[0m\u001b[1;33m.\u001b[0m\u001b[0mread\u001b[0m\u001b[1;33m(\u001b[0m\u001b[0mbs\u001b[0m\u001b[1;33m)\u001b[0m\u001b[1;33m\u001b[0m\u001b[1;33m\u001b[0m\u001b[0m\n\u001b[0m\u001b[0;32m    277\u001b[0m                 \u001b[1;32mif\u001b[0m \u001b[1;32mnot\u001b[0m \u001b[0mblock\u001b[0m\u001b[1;33m:\u001b[0m\u001b[1;33m\u001b[0m\u001b[1;33m\u001b[0m\u001b[0m\n\u001b[0;32m    278\u001b[0m                     \u001b[1;32mbreak\u001b[0m\u001b[1;33m\u001b[0m\u001b[1;33m\u001b[0m\u001b[0m\n",
      "\u001b[1;32mD:\\ProgramData\\Anaconda3\\envs\\tf2\\lib\\http\\client.py\u001b[0m in \u001b[0;36mread\u001b[1;34m(self, amt)\u001b[0m\n\u001b[0;32m    455\u001b[0m             \u001b[1;31m# Amount is given, implement using readinto\u001b[0m\u001b[1;33m\u001b[0m\u001b[1;33m\u001b[0m\u001b[1;33m\u001b[0m\u001b[0m\n\u001b[0;32m    456\u001b[0m             \u001b[0mb\u001b[0m \u001b[1;33m=\u001b[0m \u001b[0mbytearray\u001b[0m\u001b[1;33m(\u001b[0m\u001b[0mamt\u001b[0m\u001b[1;33m)\u001b[0m\u001b[1;33m\u001b[0m\u001b[1;33m\u001b[0m\u001b[0m\n\u001b[1;32m--> 457\u001b[1;33m             \u001b[0mn\u001b[0m \u001b[1;33m=\u001b[0m \u001b[0mself\u001b[0m\u001b[1;33m.\u001b[0m\u001b[0mreadinto\u001b[0m\u001b[1;33m(\u001b[0m\u001b[0mb\u001b[0m\u001b[1;33m)\u001b[0m\u001b[1;33m\u001b[0m\u001b[1;33m\u001b[0m\u001b[0m\n\u001b[0m\u001b[0;32m    458\u001b[0m             \u001b[1;32mreturn\u001b[0m \u001b[0mmemoryview\u001b[0m\u001b[1;33m(\u001b[0m\u001b[0mb\u001b[0m\u001b[1;33m)\u001b[0m\u001b[1;33m[\u001b[0m\u001b[1;33m:\u001b[0m\u001b[0mn\u001b[0m\u001b[1;33m]\u001b[0m\u001b[1;33m.\u001b[0m\u001b[0mtobytes\u001b[0m\u001b[1;33m(\u001b[0m\u001b[1;33m)\u001b[0m\u001b[1;33m\u001b[0m\u001b[1;33m\u001b[0m\u001b[0m\n\u001b[0;32m    459\u001b[0m         \u001b[1;32melse\u001b[0m\u001b[1;33m:\u001b[0m\u001b[1;33m\u001b[0m\u001b[1;33m\u001b[0m\u001b[0m\n",
      "\u001b[1;32mD:\\ProgramData\\Anaconda3\\envs\\tf2\\lib\\http\\client.py\u001b[0m in \u001b[0;36mreadinto\u001b[1;34m(self, b)\u001b[0m\n\u001b[0;32m    499\u001b[0m         \u001b[1;31m# connection, and the user is reading more bytes than will be provided\u001b[0m\u001b[1;33m\u001b[0m\u001b[1;33m\u001b[0m\u001b[1;33m\u001b[0m\u001b[0m\n\u001b[0;32m    500\u001b[0m         \u001b[1;31m# (for example, reading in 1k chunks)\u001b[0m\u001b[1;33m\u001b[0m\u001b[1;33m\u001b[0m\u001b[1;33m\u001b[0m\u001b[0m\n\u001b[1;32m--> 501\u001b[1;33m         \u001b[0mn\u001b[0m \u001b[1;33m=\u001b[0m \u001b[0mself\u001b[0m\u001b[1;33m.\u001b[0m\u001b[0mfp\u001b[0m\u001b[1;33m.\u001b[0m\u001b[0mreadinto\u001b[0m\u001b[1;33m(\u001b[0m\u001b[0mb\u001b[0m\u001b[1;33m)\u001b[0m\u001b[1;33m\u001b[0m\u001b[1;33m\u001b[0m\u001b[0m\n\u001b[0m\u001b[0;32m    502\u001b[0m         \u001b[1;32mif\u001b[0m \u001b[1;32mnot\u001b[0m \u001b[0mn\u001b[0m \u001b[1;32mand\u001b[0m \u001b[0mb\u001b[0m\u001b[1;33m:\u001b[0m\u001b[1;33m\u001b[0m\u001b[1;33m\u001b[0m\u001b[0m\n\u001b[0;32m    503\u001b[0m             \u001b[1;31m# Ideally, we would raise IncompleteRead if the content-length\u001b[0m\u001b[1;33m\u001b[0m\u001b[1;33m\u001b[0m\u001b[1;33m\u001b[0m\u001b[0m\n",
      "\u001b[1;32mD:\\ProgramData\\Anaconda3\\envs\\tf2\\lib\\socket.py\u001b[0m in \u001b[0;36mreadinto\u001b[1;34m(self, b)\u001b[0m\n\u001b[0;32m    587\u001b[0m         \u001b[1;32mwhile\u001b[0m \u001b[1;32mTrue\u001b[0m\u001b[1;33m:\u001b[0m\u001b[1;33m\u001b[0m\u001b[1;33m\u001b[0m\u001b[0m\n\u001b[0;32m    588\u001b[0m             \u001b[1;32mtry\u001b[0m\u001b[1;33m:\u001b[0m\u001b[1;33m\u001b[0m\u001b[1;33m\u001b[0m\u001b[0m\n\u001b[1;32m--> 589\u001b[1;33m                 \u001b[1;32mreturn\u001b[0m \u001b[0mself\u001b[0m\u001b[1;33m.\u001b[0m\u001b[0m_sock\u001b[0m\u001b[1;33m.\u001b[0m\u001b[0mrecv_into\u001b[0m\u001b[1;33m(\u001b[0m\u001b[0mb\u001b[0m\u001b[1;33m)\u001b[0m\u001b[1;33m\u001b[0m\u001b[1;33m\u001b[0m\u001b[0m\n\u001b[0m\u001b[0;32m    590\u001b[0m             \u001b[1;32mexcept\u001b[0m \u001b[0mtimeout\u001b[0m\u001b[1;33m:\u001b[0m\u001b[1;33m\u001b[0m\u001b[1;33m\u001b[0m\u001b[0m\n\u001b[0;32m    591\u001b[0m                 \u001b[0mself\u001b[0m\u001b[1;33m.\u001b[0m\u001b[0m_timeout_occurred\u001b[0m \u001b[1;33m=\u001b[0m \u001b[1;32mTrue\u001b[0m\u001b[1;33m\u001b[0m\u001b[1;33m\u001b[0m\u001b[0m\n",
      "\u001b[1;32mD:\\ProgramData\\Anaconda3\\envs\\tf2\\lib\\ssl.py\u001b[0m in \u001b[0;36mrecv_into\u001b[1;34m(self, buffer, nbytes, flags)\u001b[0m\n\u001b[0;32m   1069\u001b[0m                   \u001b[1;34m\"non-zero flags not allowed in calls to recv_into() on %s\"\u001b[0m \u001b[1;33m%\u001b[0m\u001b[1;33m\u001b[0m\u001b[1;33m\u001b[0m\u001b[0m\n\u001b[0;32m   1070\u001b[0m                   self.__class__)\n\u001b[1;32m-> 1071\u001b[1;33m             \u001b[1;32mreturn\u001b[0m \u001b[0mself\u001b[0m\u001b[1;33m.\u001b[0m\u001b[0mread\u001b[0m\u001b[1;33m(\u001b[0m\u001b[0mnbytes\u001b[0m\u001b[1;33m,\u001b[0m \u001b[0mbuffer\u001b[0m\u001b[1;33m)\u001b[0m\u001b[1;33m\u001b[0m\u001b[1;33m\u001b[0m\u001b[0m\n\u001b[0m\u001b[0;32m   1072\u001b[0m         \u001b[1;32melse\u001b[0m\u001b[1;33m:\u001b[0m\u001b[1;33m\u001b[0m\u001b[1;33m\u001b[0m\u001b[0m\n\u001b[0;32m   1073\u001b[0m             \u001b[1;32mreturn\u001b[0m \u001b[0msuper\u001b[0m\u001b[1;33m(\u001b[0m\u001b[1;33m)\u001b[0m\u001b[1;33m.\u001b[0m\u001b[0mrecv_into\u001b[0m\u001b[1;33m(\u001b[0m\u001b[0mbuffer\u001b[0m\u001b[1;33m,\u001b[0m \u001b[0mnbytes\u001b[0m\u001b[1;33m,\u001b[0m \u001b[0mflags\u001b[0m\u001b[1;33m)\u001b[0m\u001b[1;33m\u001b[0m\u001b[1;33m\u001b[0m\u001b[0m\n",
      "\u001b[1;32mD:\\ProgramData\\Anaconda3\\envs\\tf2\\lib\\ssl.py\u001b[0m in \u001b[0;36mread\u001b[1;34m(self, len, buffer)\u001b[0m\n\u001b[0;32m    927\u001b[0m         \u001b[1;32mtry\u001b[0m\u001b[1;33m:\u001b[0m\u001b[1;33m\u001b[0m\u001b[1;33m\u001b[0m\u001b[0m\n\u001b[0;32m    928\u001b[0m             \u001b[1;32mif\u001b[0m \u001b[0mbuffer\u001b[0m \u001b[1;32mis\u001b[0m \u001b[1;32mnot\u001b[0m \u001b[1;32mNone\u001b[0m\u001b[1;33m:\u001b[0m\u001b[1;33m\u001b[0m\u001b[1;33m\u001b[0m\u001b[0m\n\u001b[1;32m--> 929\u001b[1;33m                 \u001b[1;32mreturn\u001b[0m \u001b[0mself\u001b[0m\u001b[1;33m.\u001b[0m\u001b[0m_sslobj\u001b[0m\u001b[1;33m.\u001b[0m\u001b[0mread\u001b[0m\u001b[1;33m(\u001b[0m\u001b[0mlen\u001b[0m\u001b[1;33m,\u001b[0m \u001b[0mbuffer\u001b[0m\u001b[1;33m)\u001b[0m\u001b[1;33m\u001b[0m\u001b[1;33m\u001b[0m\u001b[0m\n\u001b[0m\u001b[0;32m    930\u001b[0m             \u001b[1;32melse\u001b[0m\u001b[1;33m:\u001b[0m\u001b[1;33m\u001b[0m\u001b[1;33m\u001b[0m\u001b[0m\n\u001b[0;32m    931\u001b[0m                 \u001b[1;32mreturn\u001b[0m \u001b[0mself\u001b[0m\u001b[1;33m.\u001b[0m\u001b[0m_sslobj\u001b[0m\u001b[1;33m.\u001b[0m\u001b[0mread\u001b[0m\u001b[1;33m(\u001b[0m\u001b[0mlen\u001b[0m\u001b[1;33m)\u001b[0m\u001b[1;33m\u001b[0m\u001b[1;33m\u001b[0m\u001b[0m\n",
      "\u001b[1;31mKeyboardInterrupt\u001b[0m: "
     ]
    }
   ],
   "source": [
    "(x_trian,y_train),(x_test,y_test)=keras.datasets.imdb.load_data(num_words=10000)"
   ]
  },
  {
   "cell_type": "code",
   "execution_count": null,
   "metadata": {},
   "outputs": [],
   "source": [
    "#将句子填充、截断为等长80个单词的句子\n",
    "x_train = keras.preprocessing.sequence.pad_sequences(x_train,maxlen=80)\n",
    "print(x_train.shape)\n",
    "#创建数字编码的单词转换为词向量\n",
    "out = embedding(x_train)\n",
    "out.shape"
   ]
  },
  {
   "cell_type": "code",
   "execution_count": 9,
   "metadata": {},
   "outputs": [
    {
     "name": "stdout",
     "output_type": "stream",
     "text": [
      "(4, 30, 30, 16)\n",
      "(3, 3, 3, 16)\n"
     ]
    }
   ],
   "source": [
    "#创建32*32的彩色图片输入，个数为4\n",
    "x = tf.random.normal([4,32,32,3])\n",
    "#创建卷积神经网络\n",
    "layer = layers.Conv2D(16,kernel_size=3)\n",
    "out = layer(x)\n",
    "print(out.shape)\n",
    "print(layer.kernel.shape)\n"
   ]
  },
  {
   "cell_type": "code",
   "execution_count": 10,
   "metadata": {},
   "outputs": [
    {
     "ename": "ModuleNotFoundError",
     "evalue": "No module named 'matplotlib'",
     "output_type": "error",
     "traceback": [
      "\u001b[1;31m---------------------------------------------------------------------------\u001b[0m",
      "\u001b[1;31mModuleNotFoundError\u001b[0m                       Traceback (most recent call last)",
      "\u001b[1;32m<ipython-input-10-fd1b8eea6e26>\u001b[0m in \u001b[0;36m<module>\u001b[1;34m\u001b[0m\n\u001b[1;32m----> 1\u001b[1;33m \u001b[1;32mimport\u001b[0m \u001b[0mmatplotlib\u001b[0m\u001b[1;33m.\u001b[0m\u001b[0mpyplot\u001b[0m \u001b[1;32mas\u001b[0m \u001b[0mplt\u001b[0m\u001b[1;33m\u001b[0m\u001b[1;33m\u001b[0m\u001b[0m\n\u001b[0m\u001b[0;32m      2\u001b[0m \u001b[1;32mimport\u001b[0m \u001b[0mpandas\u001b[0m \u001b[1;32mas\u001b[0m \u001b[0mpd\u001b[0m\u001b[1;33m\u001b[0m\u001b[1;33m\u001b[0m\u001b[0m\n\u001b[0;32m      3\u001b[0m \u001b[1;32mfrom\u001b[0m \u001b[0msklearn\u001b[0m \u001b[1;32mimport\u001b[0m \u001b[0mlinear_model\u001b[0m\u001b[1;33m\u001b[0m\u001b[1;33m\u001b[0m\u001b[0m\n",
      "\u001b[1;31mModuleNotFoundError\u001b[0m: No module named 'matplotlib'"
     ]
    }
   ],
   "source": [
    "import matplotlib.pyplot as plt\n",
    "import pandas as pd\n",
    "from sklearn import linear_model\n"
   ]
  },
  {
   "cell_type": "code",
   "execution_count": 11,
   "metadata": {},
   "outputs": [
    {
     "data": {
      "text/plain": [
       "[2495, 2563, 2615, 2641, 2682, 2727, 2761, 2803, 2834, 2871]"
      ]
     },
     "execution_count": 11,
     "metadata": {},
     "output_type": "execute_result"
    }
   ],
   "source": [
    "x = [2495, 2563, 2615, 2641, 2682, 2727, 2761, 2803, 2834, 2871]\n",
    "x"
   ]
  },
  {
   "cell_type": "code",
   "execution_count": 18,
   "metadata": {},
   "outputs": [
    {
     "data": {
      "text/plain": [
       "<tf.Tensor: shape=(2,), dtype=int32, numpy=array([1, 2])>"
      ]
     },
     "execution_count": 18,
     "metadata": {},
     "output_type": "execute_result"
    }
   ],
   "source": [
    "b = tf.constant([1,2])\n",
    "b"
   ]
  },
  {
   "cell_type": "code",
   "execution_count": 19,
   "metadata": {},
   "outputs": [
    {
     "data": {
      "text/plain": [
       "<tf.Tensor: shape=(1, 2), dtype=int32, numpy=array([[1, 2]])>"
      ]
     },
     "execution_count": 19,
     "metadata": {},
     "output_type": "execute_result"
    }
   ],
   "source": [
    "b = tf.expand_dims(b,axis=0)\n",
    "b"
   ]
  },
  {
   "cell_type": "code",
   "execution_count": 24,
   "metadata": {},
   "outputs": [
    {
     "data": {
      "text/plain": [
       "<tf.Tensor: shape=(32, 2), dtype=int32, numpy=\n",
       "array([[1, 2],\n",
       "       [1, 2],\n",
       "       [1, 2],\n",
       "       [1, 2],\n",
       "       [1, 2],\n",
       "       [1, 2],\n",
       "       [1, 2],\n",
       "       [1, 2],\n",
       "       [1, 2],\n",
       "       [1, 2],\n",
       "       [1, 2],\n",
       "       [1, 2],\n",
       "       [1, 2],\n",
       "       [1, 2],\n",
       "       [1, 2],\n",
       "       [1, 2],\n",
       "       [1, 2],\n",
       "       [1, 2],\n",
       "       [1, 2],\n",
       "       [1, 2],\n",
       "       [1, 2],\n",
       "       [1, 2],\n",
       "       [1, 2],\n",
       "       [1, 2],\n",
       "       [1, 2],\n",
       "       [1, 2],\n",
       "       [1, 2],\n",
       "       [1, 2],\n",
       "       [1, 2],\n",
       "       [1, 2],\n",
       "       [1, 2],\n",
       "       [1, 2]])>"
      ]
     },
     "execution_count": 24,
     "metadata": {},
     "output_type": "execute_result"
    }
   ],
   "source": [
    "b = tf.tile(b,multiples=[2,1])\n",
    "b"
   ]
  },
  {
   "cell_type": "code",
   "execution_count": 28,
   "metadata": {},
   "outputs": [
    {
     "data": {
      "text/plain": [
       "<tf.Tensor: shape=(4, 4), dtype=int32, numpy=\n",
       "array([[0, 1, 0, 1],\n",
       "       [2, 3, 2, 3],\n",
       "       [0, 1, 0, 1],\n",
       "       [2, 3, 2, 3]])>"
      ]
     },
     "execution_count": 28,
     "metadata": {},
     "output_type": "execute_result"
    }
   ],
   "source": [
    "x = tf.range(4)\n",
    "x = tf.reshape(x,[2,2])\n",
    "x = tf.tile(x,multiples=[1,2])\n",
    "x = tf.tile(x,multiples=[2,1])\n",
    "x"
   ]
  },
  {
   "cell_type": "code",
   "execution_count": 29,
   "metadata": {},
   "outputs": [],
   "source": [
    "a = tf.random.normal([2,32,32,1])\n",
    "b = tf.random.normal([32,32])"
   ]
  },
  {
   "cell_type": "code",
   "execution_count": 30,
   "metadata": {},
   "outputs": [
    {
     "data": {
      "text/plain": [
       "<tf.Tensor: shape=(2, 32, 32, 32), dtype=float32, numpy=\n",
       "array([[[[ 1.64981890e+00,  2.03167772e+00,  1.28785443e+00, ...,\n",
       "           7.11625397e-01,  3.08796167e+00,  8.46819222e-01],\n",
       "         [ 8.20375681e-01, -1.43437672e+00, -1.65192401e+00, ...,\n",
       "           2.00487614e+00,  3.32292467e-01, -9.90981817e-01],\n",
       "         [ 2.37359142e+00, -1.87798738e-01,  3.38577688e-01, ...,\n",
       "           5.84679425e-01,  1.28082442e+00, -6.35519803e-01],\n",
       "         ...,\n",
       "         [-4.42156434e-01, -7.08818197e-01, -4.43438649e-01, ...,\n",
       "           6.11646652e-01, -9.95841384e-01, -1.44991919e-01],\n",
       "         [-9.95074332e-01, -9.72164094e-01, -8.30665290e-01, ...,\n",
       "           3.25655937e-01, -1.22224057e+00, -8.70719969e-01],\n",
       "         [ 8.92628431e-02,  3.02425265e-01,  2.00664234e+00, ...,\n",
       "           1.76199996e+00,  2.62124872e+00,  7.91904807e-01]],\n",
       "\n",
       "        [[ 1.95846736e-01,  5.77705681e-01, -1.66117728e-01, ...,\n",
       "          -7.42346704e-01,  1.63398957e+00, -6.07152879e-01],\n",
       "         [ 2.51635480e+00,  2.61602402e-01,  4.40551043e-02, ...,\n",
       "           3.70085526e+00,  2.02827168e+00,  7.04997301e-01],\n",
       "         [ 2.39838481e+00, -1.63005412e-01,  3.63371015e-01, ...,\n",
       "           6.09472752e-01,  1.30561769e+00, -6.10726476e-01],\n",
       "         ...,\n",
       "         [-3.77897143e-01, -6.44558907e-01, -3.79179358e-01, ...,\n",
       "           6.75905943e-01, -9.31582093e-01, -8.07326287e-02],\n",
       "         [ 4.10761416e-01,  4.33671653e-01,  5.75170457e-01, ...,\n",
       "           1.73149168e+00,  1.83595151e-01,  5.35115778e-01],\n",
       "         [ 1.89599395e-02,  2.32122362e-01,  1.93633938e+00, ...,\n",
       "           1.69169712e+00,  2.55094576e+00,  7.21601903e-01]],\n",
       "\n",
       "        [[ 2.48387957e+00,  2.86573839e+00,  2.12191486e+00, ...,\n",
       "           1.54568601e+00,  3.92202234e+00,  1.68087983e+00],\n",
       "         [ 4.81353045e-01, -1.77339935e+00, -1.99094665e+00, ...,\n",
       "           1.66585362e+00, -6.73016906e-03, -1.33000445e+00],\n",
       "         [ 2.97321057e+00,  4.11820352e-01,  9.38196778e-01, ...,\n",
       "           1.18429852e+00,  1.88044345e+00, -3.59007120e-02],\n",
       "         ...,\n",
       "         [-1.07035589e+00, -1.33701766e+00, -1.07163811e+00, ...,\n",
       "          -1.65528655e-02, -1.62404084e+00, -7.73191392e-01],\n",
       "         [ 9.22090113e-01,  9.45000350e-01,  1.08649921e+00, ...,\n",
       "           2.24282026e+00,  6.94923878e-01,  1.04644454e+00],\n",
       "         [-1.67040884e-01,  4.61215377e-02,  1.75033855e+00, ...,\n",
       "           1.50569630e+00,  2.36494493e+00,  5.35601079e-01]],\n",
       "\n",
       "        ...,\n",
       "\n",
       "        [[-3.91410470e-01, -9.55152512e-03, -7.53374934e-01, ...,\n",
       "          -1.32960391e+00,  1.04673231e+00, -1.19441009e+00],\n",
       "         [ 1.20592451e+00, -1.04882789e+00, -1.26637518e+00, ...,\n",
       "           2.39042521e+00,  7.17841268e-01, -6.05432987e-01],\n",
       "         [ 2.36508226e+00, -1.96308076e-01,  3.30068350e-01, ...,\n",
       "           5.76170087e-01,  1.27231503e+00, -6.44029140e-01],\n",
       "         ...,\n",
       "         [ 2.01869869e+00,  1.75203705e+00,  2.01741648e+00, ...,\n",
       "           3.07250190e+00,  1.46501386e+00,  2.31586337e+00],\n",
       "         [-1.36874676e-01, -1.13964453e-01,  2.75343675e-02, ...,\n",
       "           1.18385553e+00, -3.64040941e-01, -1.25203077e-02],\n",
       "         [-2.34087110e+00, -2.12770867e+00, -4.23491716e-01, ...,\n",
       "          -6.68133974e-01,  1.91114664e-01, -1.63822913e+00]],\n",
       "\n",
       "        [[-5.64850211e-01, -1.82991266e-01, -9.26814675e-01, ...,\n",
       "          -1.50304365e+00,  8.73292565e-01, -1.36784983e+00],\n",
       "         [-1.49798870e-01, -2.40455127e+00, -2.62209845e+00, ...,\n",
       "           1.03470170e+00, -6.37882113e-01, -1.96115637e+00],\n",
       "         [ 8.67987931e-01, -1.69340229e+00, -1.16702580e+00, ...,\n",
       "          -9.20924127e-01, -2.24779189e-01, -2.14112329e+00],\n",
       "         ...,\n",
       "         [ 3.26341331e-01,  5.96795380e-02,  3.25059086e-01, ...,\n",
       "           1.38014436e+00, -2.27343619e-01,  6.23505831e-01],\n",
       "         [ 2.00908184e-01,  2.23818421e-01,  3.65317225e-01, ...,\n",
       "           1.52163839e+00, -2.62580812e-02,  3.25262547e-01],\n",
       "         [-1.89341378e+00, -1.68025136e+00,  2.39655972e-02, ...,\n",
       "          -2.20676661e-01,  6.38571978e-01, -1.19077182e+00]],\n",
       "\n",
       "        [[ 7.05072582e-01,  1.08693147e+00,  3.43108118e-01, ...,\n",
       "          -2.33120859e-01,  2.14321542e+00, -9.79270265e-02],\n",
       "         [ 2.48356795e+00,  2.28815556e-01,  1.12682581e-02, ...,\n",
       "           3.66806841e+00,  1.99548471e+00,  6.72210455e-01],\n",
       "         [ 1.09508729e+00, -1.46630287e+00, -9.39926445e-01, ...,\n",
       "          -6.93824708e-01,  2.32023001e-03, -1.91402388e+00],\n",
       "         ...,\n",
       "         [-1.61286369e-01, -4.27948147e-01, -1.62568599e-01, ...,\n",
       "           8.92516673e-01, -7.14971304e-01,  1.35878131e-01],\n",
       "         [-7.56639779e-01, -7.33729541e-01, -5.92230737e-01, ...,\n",
       "           5.64090490e-01, -9.83806014e-01, -6.32285416e-01],\n",
       "         [-1.20747519e+00, -9.94312823e-01,  7.09904134e-01, ...,\n",
       "           4.65261877e-01,  1.32451057e+00, -5.04833281e-01]]],\n",
       "\n",
       "\n",
       "       [[[ 1.79549599e+00,  2.17735481e+00,  1.43353152e+00, ...,\n",
       "           8.57302547e-01,  3.23363876e+00,  9.92496371e-01],\n",
       "         [ 2.93102920e-01, -1.96164942e+00, -2.17919683e+00, ...,\n",
       "           1.47760344e+00, -1.94980294e-01, -1.51825452e+00],\n",
       "         [ 3.48923826e+00,  9.27848160e-01,  1.45422459e+00, ...,\n",
       "           1.70032632e+00,  2.39647126e+00,  4.80127096e-01],\n",
       "         ...,\n",
       "         [ 4.98868346e-01,  2.32206553e-01,  4.97586101e-01, ...,\n",
       "           1.55267143e+00, -5.48166037e-02,  7.96032846e-01],\n",
       "         [-1.38824630e+00, -1.36533618e+00, -1.22383726e+00, ...,\n",
       "          -6.75160885e-02, -1.61541259e+00, -1.26389194e+00],\n",
       "         [ 1.68873727e+00,  1.90189970e+00,  3.60611677e+00, ...,\n",
       "           3.36147451e+00,  4.22072315e+00,  2.39137936e+00]],\n",
       "\n",
       "        [[ 2.44316721e+00,  2.82502604e+00,  2.08120251e+00, ...,\n",
       "           1.50497365e+00,  3.88130999e+00,  1.64016747e+00],\n",
       "         [ 2.90265846e+00,  6.47906184e-01,  4.30358887e-01, ...,\n",
       "           4.08715916e+00,  2.41457534e+00,  1.09130108e+00],\n",
       "         [ 1.04770672e+00, -1.51368356e+00, -9.87307072e-01, ...,\n",
       "          -7.41205335e-01, -4.50603962e-02, -1.96140456e+00],\n",
       "         ...,\n",
       "         [-1.63160551e+00, -1.89826727e+00, -1.63288772e+00, ...,\n",
       "          -5.77802479e-01, -2.18529034e+00, -1.33444107e+00],\n",
       "         [ 9.43270385e-01,  9.66180623e-01,  1.10767949e+00, ...,\n",
       "           2.26400065e+00,  7.16104150e-01,  1.06762481e+00],\n",
       "         [-4.16481107e-01, -2.03318685e-01,  1.50089824e+00, ...,\n",
       "           1.25625598e+00,  2.11550474e+00,  2.86160886e-01]],\n",
       "\n",
       "        [[-2.01358581e+00, -1.63172686e+00, -2.37555027e+00, ...,\n",
       "          -2.95177913e+00, -5.75443029e-01, -2.81658530e+00],\n",
       "         [-1.44353151e-01, -2.39910555e+00, -2.61665297e+00, ...,\n",
       "           1.04014742e+00, -6.32436395e-01, -1.95571065e+00],\n",
       "         [ 2.97750139e+00,  4.16111171e-01,  9.42487597e-01, ...,\n",
       "           1.18858933e+00,  1.88473427e+00, -3.16098928e-02],\n",
       "         ...,\n",
       "         [ 2.83157706e-01,  1.64959133e-02,  2.81875461e-01, ...,\n",
       "           1.33696079e+00, -2.70527244e-01,  5.80322206e-01],\n",
       "         [ 4.74289775e-01,  4.97200012e-01,  6.38698816e-01, ...,\n",
       "           1.79502010e+00,  2.47123510e-01,  5.98644137e-01],\n",
       "         [-1.27827597e+00, -1.06511354e+00,  6.39103472e-01, ...,\n",
       "           3.94461215e-01,  1.25370979e+00, -5.75633943e-01]],\n",
       "\n",
       "        ...,\n",
       "\n",
       "        [[ 1.15586567e+00,  1.53772461e+00,  7.93901205e-01, ...,\n",
       "           2.17672229e-01,  2.59400845e+00,  3.52866054e-01],\n",
       "         [ 1.97130287e+00, -2.83449531e-01, -5.00996828e-01, ...,\n",
       "           3.15580344e+00,  1.48321962e+00,  1.59945369e-01],\n",
       "         [ 2.47297978e+00, -8.84104967e-02,  4.37965930e-01, ...,\n",
       "           6.84067667e-01,  1.38021255e+00, -5.36131561e-01],\n",
       "         ...,\n",
       "         [ 1.25223830e-01, -1.41437948e-01,  1.23941600e-01, ...,\n",
       "           1.17902684e+00, -4.28461105e-01,  4.22388315e-01],\n",
       "         [-8.45865726e-01, -8.22955489e-01, -6.81456685e-01, ...,\n",
       "           4.74864542e-01, -1.07303202e+00, -7.21511364e-01],\n",
       "         [-8.94132733e-01, -6.80970311e-01,  1.02324665e+00, ...,\n",
       "           7.78604388e-01,  1.63785303e+00, -1.91490740e-01]],\n",
       "\n",
       "        [[ 7.00065434e-01,  1.08192444e+00,  3.38100970e-01, ...,\n",
       "          -2.38127977e-01,  2.13820815e+00, -1.02934144e-01],\n",
       "         [ 1.79476595e+00, -4.59986448e-01, -6.77533746e-01, ...,\n",
       "           2.97926664e+00,  1.30668271e+00, -1.65915489e-02],\n",
       "         [ 1.48150134e+00, -1.07988882e+00, -5.53512394e-01, ...,\n",
       "          -3.07410687e-01,  3.88734281e-01, -1.52760983e+00],\n",
       "         ...,\n",
       "         [ 1.44492090e+00,  1.17825913e+00,  1.44363868e+00, ...,\n",
       "           2.49872398e+00,  8.91235948e-01,  1.74208534e+00],\n",
       "         [ 1.18541503e+00,  1.20832527e+00,  1.34982419e+00, ...,\n",
       "           2.50614548e+00,  9.58248854e-01,  1.30976951e+00],\n",
       "         [-1.13297987e+00, -9.19817507e-01,  7.84399450e-01, ...,\n",
       "           5.39757192e-01,  1.39900589e+00, -4.30337936e-01]],\n",
       "\n",
       "        [[ 1.15058517e+00,  1.53244412e+00,  7.88620710e-01, ...,\n",
       "           2.12391734e-01,  2.58872795e+00,  3.47585559e-01],\n",
       "         [ 3.55523682e+00,  1.30048454e+00,  1.08293724e+00, ...,\n",
       "           4.73973751e+00,  3.06715369e+00,  1.74387944e+00],\n",
       "         [ 2.36859179e+00, -1.92798495e-01,  3.33577931e-01, ...,\n",
       "           5.79679668e-01,  1.27582455e+00, -6.40519559e-01],\n",
       "         ...,\n",
       "         [-7.46584654e-01, -1.01324642e+00, -7.47866869e-01, ...,\n",
       "           3.07218373e-01, -1.30026960e+00, -4.49420154e-01],\n",
       "         [-7.65098691e-01, -7.42188454e-01, -6.00689650e-01, ...,\n",
       "           5.55631578e-01, -9.92264986e-01, -6.40744328e-01],\n",
       "         [-2.41417789e+00, -2.20101547e+00, -4.96798515e-01, ...,\n",
       "          -7.41440773e-01,  1.17807865e-01, -1.71153593e+00]]]],\n",
       "      dtype=float32)>"
      ]
     },
     "execution_count": 30,
     "metadata": {},
     "output_type": "execute_result"
    }
   ],
   "source": [
    "a+b"
   ]
  }
 ],
 "metadata": {
  "kernelspec": {
   "display_name": "tf2",
   "language": "python",
   "name": "tf2"
  },
  "language_info": {
   "codemirror_mode": {
    "name": "ipython",
    "version": 3
   },
   "file_extension": ".py",
   "mimetype": "text/x-python",
   "name": "python",
   "nbconvert_exporter": "python",
   "pygments_lexer": "ipython3",
   "version": "3.7.6"
  }
 },
 "nbformat": 4,
 "nbformat_minor": 2
}
